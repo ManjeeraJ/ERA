{
  "nbformat": 4,
  "nbformat_minor": 0,
  "metadata": {
    "colab": {
      "provenance": []
    },
    "kernelspec": {
      "name": "python3",
      "display_name": "Python 3"
    }
  },
  "cells": [
    {
      "cell_type": "markdown",
      "source": [
        "<b>Target :</b> To improve the overall perfromance of the model by increasing number of weights, adding image augmentation and using a step LR to try to hit the target accuracy faster<br>\n",
        "\n",
        "<b>Results :</b> The train and test accuracies are fluctuating about 98.8%<br>\n",
        "  1. Best Train Accuracy : 98.87\n",
        "  2. Best Test Accuracy : 99.15\n",
        "\n",
        "<b>Analysis :</b> Increasing the weights(by +300) and image augmentation(random rotation and random affine) has not helped improve the train accuracy for some reason.And step LR doesnt seem to help much either. Couple of things I would still try to improve accuracy\n",
        "1. Change the model architecture to add more weight(by adding kernels), and\n",
        "2. Probably not have a second transition block and instead have only 2 convolutions after the first transition block."
      ],
      "metadata": {
        "id": "1NyIyOdxZORG"
      }
    },
    {
      "cell_type": "markdown",
      "metadata": {
        "id": "aO-7t1Y7-hV4"
      },
      "source": [
        "# Import Libraries"
      ]
    },
    {
      "cell_type": "code",
      "source": [
        "from google.colab import drive\n",
        "drive.mount('/content/gdrive')"
      ],
      "metadata": {
        "colab": {
          "base_uri": "https://localhost:8080/"
        },
        "id": "-f1bVOiBwoTJ",
        "outputId": "3b512f51-7496-4fe4-ddf7-9877592c81e4"
      },
      "execution_count": 10,
      "outputs": [
        {
          "output_type": "stream",
          "name": "stdout",
          "text": [
            "Drive already mounted at /content/gdrive; to attempt to forcibly remount, call drive.mount(\"/content/gdrive\", force_remount=True).\n"
          ]
        }
      ]
    },
    {
      "cell_type": "code",
      "source": [
        "# The first line of code loads the autoreload extension\n",
        "# The second line of code sets the autoreload mode to automatically reload all modules before each execution\n",
        "# Without autoreload, you would need to restart the kernel and re-import the module to see the changes\n",
        "# We no longer need to restart the kernel, but we have to re-import the module. Is this the expected behaviour?\n",
        "%load_ext autoreload\n",
        "%autoreload 2"
      ],
      "metadata": {
        "id": "xJGRelmsw1Vd",
        "colab": {
          "base_uri": "https://localhost:8080/"
        },
        "outputId": "f14c3493-ad78-4a6a-cdc4-3460f2140a23"
      },
      "execution_count": 11,
      "outputs": [
        {
          "output_type": "stream",
          "name": "stdout",
          "text": [
            "The autoreload extension is already loaded. To reload it, use:\n",
            "  %reload_ext autoreload\n"
          ]
        }
      ]
    },
    {
      "cell_type": "code",
      "source": [
        "!pip install torchsummary"
      ],
      "metadata": {
        "colab": {
          "base_uri": "https://localhost:8080/"
        },
        "id": "gn0y15b7w1Id",
        "outputId": "31b5b94b-1ca4-462a-8a52-052bd788cb48"
      },
      "execution_count": 12,
      "outputs": [
        {
          "output_type": "stream",
          "name": "stdout",
          "text": [
            "Requirement already satisfied: torchsummary in /usr/local/lib/python3.10/dist-packages (1.5.1)\n"
          ]
        }
      ]
    },
    {
      "cell_type": "code",
      "metadata": {
        "id": "8kH16rnZ7wt_"
      },
      "source": [
        "\n",
        "from __future__ import print_function\n",
        "import torch\n",
        "import torch.nn as nn\n",
        "import torch.nn.functional as F\n",
        "import torch.optim as optim\n",
        "from torchvision import datasets, transforms"
      ],
      "execution_count": 13,
      "outputs": []
    },
    {
      "cell_type": "markdown",
      "metadata": {
        "id": "qgldp_3-Dn0c"
      },
      "source": [
        "# Dataloader Arguments & Test/Train Dataloaders\n"
      ]
    },
    {
      "cell_type": "code",
      "metadata": {
        "id": "C8OLDR79DrHG",
        "outputId": "d854b1d1-da9d-45f8-e62c-f62604fd37b8",
        "colab": {
          "base_uri": "https://localhost:8080/"
        }
      },
      "source": [
        "SEED = 1\n",
        "\n",
        "# CUDA?\n",
        "use_cuda = torch.cuda.is_available()\n",
        "print(\"CUDA Available?\", use_cuda)\n",
        "\n",
        "# For reproducibility\n",
        "torch.manual_seed(SEED)\n",
        "\n",
        "if use_cuda:\n",
        "  torch.cuda.manual_seed(SEED)\n",
        "  device = torch.device(\"cuda\")\n",
        "  batch_size = 128\n",
        "  print(\"Running on the GPU\")\n",
        "else:\n",
        "  device = torch.device(\"cpu\")\n",
        "  batch_size = 64\n",
        "  print(\"Running on the CPU\")\n"
      ],
      "execution_count": 14,
      "outputs": [
        {
          "output_type": "stream",
          "name": "stdout",
          "text": [
            "CUDA Available? False\n",
            "Running on the CPU\n"
          ]
        }
      ]
    },
    {
      "cell_type": "code",
      "source": [
        "from gdrive.MyDrive.utils_1 import *\n",
        "\n",
        "train_loader, test_loader = getDataLoader(batch_size=batch_size)"
      ],
      "metadata": {
        "id": "DmmX4dUQziUP"
      },
      "execution_count": 15,
      "outputs": []
    },
    {
      "cell_type": "markdown",
      "source": [
        "# View sample images"
      ],
      "metadata": {
        "id": "kzx9cHgFREVl"
      }
    },
    {
      "cell_type": "code",
      "source": [
        "getSampleImages(train_loader, num_images = 10) # Need to fix this function as it can take a maximum of 12 images only"
      ],
      "metadata": {
        "colab": {
          "base_uri": "https://localhost:8080/",
          "height": 487
        },
        "id": "9nfePKOvRDnW",
        "outputId": "7bdba98c-0ebf-4661-b22b-8807bcf88271"
      },
      "execution_count": 16,
      "outputs": [
        {
          "output_type": "display_data",
          "data": {
            "text/plain": [
              "<Figure size 640x480 with 10 Axes>"
            ],
            "image/png": "[encoded data removed]"
          },
          "metadata": {}
        }
      ]
    },
    {
      "cell_type": "markdown",
      "metadata": {
        "id": "ubQL3H6RJL3h"
      },
      "source": [
        "# Model Params"
      ]
    },
    {
      "cell_type": "code",
      "metadata": {
        "id": "5skB97zIJQQe",
        "outputId": "36c27d41-bc86-4526-b57a-bdaf40d193df",
        "colab": {
          "base_uri": "https://localhost:8080/"
        }
      },
      "source": [
        "from gdrive.MyDrive.model_3 import Net # Instead of import * because Net is in a conflict with something else,\n",
        "\n",
        "model = Net().to(device)\n",
        "getModelSummary(model)"
      ],
      "execution_count": 17,
      "outputs": [
        {
          "output_type": "stream",
          "name": "stdout",
          "text": [
            "----------------------------------------------------------------\n",
            "        Layer (type)               Output Shape         Param #\n",
            "================================================================\n",
            "            Conv2d-1           [-1, 16, 26, 26]             144\n",
            "              ReLU-2           [-1, 16, 26, 26]               0\n",
            "       BatchNorm2d-3           [-1, 16, 26, 26]              32\n",
            "           Dropout-4           [-1, 16, 26, 26]               0\n",
            "            Conv2d-5           [-1, 16, 24, 24]           2,304\n",
            "              ReLU-6           [-1, 16, 24, 24]               0\n",
            "       BatchNorm2d-7           [-1, 16, 24, 24]              32\n",
            "           Dropout-8           [-1, 16, 24, 24]               0\n",
            "            Conv2d-9            [-1, 8, 24, 24]             128\n",
            "        MaxPool2d-10            [-1, 8, 12, 12]               0\n",
            "           Conv2d-11           [-1, 16, 10, 10]           1,152\n",
            "             ReLU-12           [-1, 16, 10, 10]               0\n",
            "      BatchNorm2d-13           [-1, 16, 10, 10]              32\n",
            "          Dropout-14           [-1, 16, 10, 10]               0\n",
            "           Conv2d-15             [-1, 16, 8, 8]           2,304\n",
            "             ReLU-16             [-1, 16, 8, 8]               0\n",
            "      BatchNorm2d-17             [-1, 16, 8, 8]              32\n",
            "          Dropout-18             [-1, 16, 8, 8]               0\n",
            "           Conv2d-19              [-1, 8, 8, 8]             128\n",
            "        MaxPool2d-20              [-1, 8, 4, 4]               0\n",
            "           Conv2d-21             [-1, 16, 4, 4]           1,152\n",
            "             ReLU-22             [-1, 16, 4, 4]               0\n",
            "      BatchNorm2d-23             [-1, 16, 4, 4]              32\n",
            "          Dropout-24             [-1, 16, 4, 4]               0\n",
            "           Conv2d-25             [-1, 10, 4, 4]             160\n",
            "        AvgPool2d-26             [-1, 10, 1, 1]               0\n",
            "================================================================\n",
            "Total params: 7,632\n",
            "Trainable params: 7,632\n",
            "Non-trainable params: 0\n",
            "----------------------------------------------------------------\n",
            "Input size (MB): 0.00\n",
            "Forward/backward pass size (MB): 0.75\n",
            "Params size (MB): 0.03\n",
            "Estimated Total Size (MB): 0.78\n",
            "----------------------------------------------------------------\n"
          ]
        }
      ]
    },
    {
      "cell_type": "markdown",
      "metadata": {
        "id": "1__x_SbrL7z3"
      },
      "source": [
        "# Training and Testing"
      ]
    },
    {
      "cell_type": "code",
      "metadata": {
        "id": "aE5Le6FYHhc8",
        "outputId": "f5ccf2aa-674b-4c1d-cb2a-e5d5bd65d4df",
        "colab": {
          "base_uri": "https://localhost:8080/"
        }
      },
      "source": [
        "from torch.optim.lr_scheduler import StepLR\n",
        "\n",
        "optimizer = optim.SGD(model.parameters(), lr=0.01, momentum=0.9)\n",
        "criterion = F.nll_loss\n",
        "scheduler = StepLR(optimizer, step_size=5, gamma=0.1)\n",
        "num_epochs = 15\n",
        "\n",
        "train_losses, test_losses, train_acc, test_acc = training(model, device, num_epochs, train_loader, test_loader, optimizer, criterion, scheduler)"
      ],
      "execution_count": 18,
      "outputs": [
        {
          "output_type": "stream",
          "name": "stdout",
          "text": [
            "Epoch 1\n"
          ]
        },
        {
          "output_type": "stream",
          "name": "stderr",
          "text": [
            "Train: Loss=0.0141 Batch_id=937 Accuracy=89.31: 100%|██████████| 938/938 [01:23<00:00, 11.27it/s]\n"
          ]
        },
        {
          "output_type": "stream",
          "name": "stdout",
          "text": [
            "Test set: Average loss: 0.0811, Accuracy: 9790/10000 (97.90%)\n",
            "\n",
            "Epoch 2\n"
          ]
        },
        {
          "output_type": "stream",
          "name": "stderr",
          "text": [
            "Train: Loss=0.0505 Batch_id=937 Accuracy=97.35: 100%|██████████| 938/938 [01:23<00:00, 11.18it/s]\n"
          ]
        },
        {
          "output_type": "stream",
          "name": "stdout",
          "text": [
            "Test set: Average loss: 0.0750, Accuracy: 9779/10000 (97.79%)\n",
            "\n",
            "Epoch 3\n"
          ]
        },
        {
          "output_type": "stream",
          "name": "stderr",
          "text": [
            "Train: Loss=0.2704 Batch_id=937 Accuracy=97.81: 100%|██████████| 938/938 [01:19<00:00, 11.75it/s]\n"
          ]
        },
        {
          "output_type": "stream",
          "name": "stdout",
          "text": [
            "Test set: Average loss: 0.0495, Accuracy: 9847/10000 (98.47%)\n",
            "\n",
            "Epoch 4\n"
          ]
        },
        {
          "output_type": "stream",
          "name": "stderr",
          "text": [
            "Train: Loss=0.1310 Batch_id=937 Accuracy=98.10: 100%|██████████| 938/938 [01:27<00:00, 10.77it/s]\n"
          ]
        },
        {
          "output_type": "stream",
          "name": "stdout",
          "text": [
            "Test set: Average loss: 0.0376, Accuracy: 9885/10000 (98.85%)\n",
            "\n",
            "Epoch 5\n"
          ]
        },
        {
          "output_type": "stream",
          "name": "stderr",
          "text": [
            "Train: Loss=0.0622 Batch_id=937 Accuracy=98.26: 100%|██████████| 938/938 [01:21<00:00, 11.52it/s]\n"
          ]
        },
        {
          "output_type": "stream",
          "name": "stdout",
          "text": [
            "Test set: Average loss: 0.0397, Accuracy: 9881/10000 (98.81%)\n",
            "\n",
            "Epoch 6\n"
          ]
        },
        {
          "output_type": "stream",
          "name": "stderr",
          "text": [
            "Train: Loss=0.0285 Batch_id=937 Accuracy=98.68: 100%|██████████| 938/938 [01:24<00:00, 11.12it/s]\n"
          ]
        },
        {
          "output_type": "stream",
          "name": "stdout",
          "text": [
            "Test set: Average loss: 0.0308, Accuracy: 9907/10000 (99.07%)\n",
            "\n",
            "Epoch 7\n"
          ]
        },
        {
          "output_type": "stream",
          "name": "stderr",
          "text": [
            "Train: Loss=0.0691 Batch_id=937 Accuracy=98.78: 100%|██████████| 938/938 [01:21<00:00, 11.47it/s]\n"
          ]
        },
        {
          "output_type": "stream",
          "name": "stdout",
          "text": [
            "Test set: Average loss: 0.0310, Accuracy: 9903/10000 (99.03%)\n",
            "\n",
            "Epoch 8\n"
          ]
        },
        {
          "output_type": "stream",
          "name": "stderr",
          "text": [
            "Train: Loss=0.0804 Batch_id=937 Accuracy=98.77: 100%|██████████| 938/938 [01:19<00:00, 11.84it/s]\n"
          ]
        },
        {
          "output_type": "stream",
          "name": "stdout",
          "text": [
            "Test set: Average loss: 0.0300, Accuracy: 9909/10000 (99.09%)\n",
            "\n",
            "Epoch 9\n"
          ]
        },
        {
          "output_type": "stream",
          "name": "stderr",
          "text": [
            "Train: Loss=0.0293 Batch_id=937 Accuracy=98.77: 100%|██████████| 938/938 [01:26<00:00, 10.86it/s]\n"
          ]
        },
        {
          "output_type": "stream",
          "name": "stdout",
          "text": [
            "Test set: Average loss: 0.0286, Accuracy: 9909/10000 (99.09%)\n",
            "\n",
            "Epoch 10\n"
          ]
        },
        {
          "output_type": "stream",
          "name": "stderr",
          "text": [
            "Train: Loss=0.0768 Batch_id=937 Accuracy=98.82: 100%|██████████| 938/938 [01:19<00:00, 11.73it/s]\n"
          ]
        },
        {
          "output_type": "stream",
          "name": "stdout",
          "text": [
            "Test set: Average loss: 0.0299, Accuracy: 9905/10000 (99.05%)\n",
            "\n",
            "Epoch 11\n"
          ]
        },
        {
          "output_type": "stream",
          "name": "stderr",
          "text": [
            "Train: Loss=0.1250 Batch_id=937 Accuracy=98.82: 100%|██████████| 938/938 [01:21<00:00, 11.55it/s]\n"
          ]
        },
        {
          "output_type": "stream",
          "name": "stdout",
          "text": [
            "Test set: Average loss: 0.0286, Accuracy: 9913/10000 (99.13%)\n",
            "\n",
            "Epoch 12\n"
          ]
        },
        {
          "output_type": "stream",
          "name": "stderr",
          "text": [
            "Train: Loss=0.0179 Batch_id=937 Accuracy=98.87: 100%|██████████| 938/938 [01:19<00:00, 11.83it/s]\n"
          ]
        },
        {
          "output_type": "stream",
          "name": "stdout",
          "text": [
            "Test set: Average loss: 0.0292, Accuracy: 9907/10000 (99.07%)\n",
            "\n",
            "Epoch 13\n"
          ]
        },
        {
          "output_type": "stream",
          "name": "stderr",
          "text": [
            "Train: Loss=0.0159 Batch_id=937 Accuracy=98.83: 100%|██████████| 938/938 [01:21<00:00, 11.53it/s]\n"
          ]
        },
        {
          "output_type": "stream",
          "name": "stdout",
          "text": [
            "Test set: Average loss: 0.0297, Accuracy: 9907/10000 (99.07%)\n",
            "\n",
            "Epoch 14\n"
          ]
        },
        {
          "output_type": "stream",
          "name": "stderr",
          "text": [
            "Train: Loss=0.0055 Batch_id=937 Accuracy=98.86: 100%|██████████| 938/938 [01:18<00:00, 11.94it/s]\n"
          ]
        },
        {
          "output_type": "stream",
          "name": "stdout",
          "text": [
            "Test set: Average loss: 0.0297, Accuracy: 9907/10000 (99.07%)\n",
            "\n",
            "Epoch 15\n"
          ]
        },
        {
          "output_type": "stream",
          "name": "stderr",
          "text": [
            "Train: Loss=0.0093 Batch_id=937 Accuracy=98.87: 100%|██████████| 938/938 [01:20<00:00, 11.62it/s]\n"
          ]
        },
        {
          "output_type": "stream",
          "name": "stdout",
          "text": [
            "Test set: Average loss: 0.0286, Accuracy: 9915/10000 (99.15%)\n",
            "\n"
          ]
        }
      ]
    },
    {
      "cell_type": "markdown",
      "metadata": {
        "id": "drokW8wWODKq"
      },
      "source": [
        "# Graphs"
      ]
    },
    {
      "cell_type": "code",
      "metadata": {
        "id": "87RaqGSEOWDe",
        "outputId": "a52d8cf3-39c6-4614-9bfb-3f064ae71632",
        "colab": {
          "base_uri": "https://localhost:8080/",
          "height": 873
        }
      },
      "source": [
        "getTrainingTestPlots(train_losses, test_losses, train_acc, test_acc)"
      ],
      "execution_count": 19,
      "outputs": [
        {
          "output_type": "display_data",
          "data": {
            "text/plain": [
              "<Figure size 1500x1000 with 4 Axes>"
            ],
            "image/png": "[encoded data removed]"
          },
          "metadata": {}
        }
      ]
    }
  ]
}